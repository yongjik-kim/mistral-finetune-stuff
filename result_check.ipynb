{
 "cells": [
  {
   "cell_type": "markdown",
   "metadata": {},
   "source": [
    "Select base model, tokenizer, and fine-tuned model"
   ]
  },
  {
   "cell_type": "code",
   "execution_count": null,
   "metadata": {},
   "outputs": [],
   "source": [
    "base_model = AutoModelForCausalLM.from_pretrained(\n",
    "    base_model_id, device_map=\"auto\"  # Mistral, same as before\n",
    ")\n",
    "\n",
    "eval_tokenizer = AutoTokenizer.from_pretrained(base_model_id, add_bos_token=True)\n",
    "\n",
    "ft_model = PeftModel.from_pretrained(\n",
    "    base_model, \"checkpoints/mistral-samsum-finetune/checkpoint-2000\"\n",
    ")"
   ]
  },
  {
   "cell_type": "markdown",
   "metadata": {},
   "source": [
    "Write unique prompt,"
   ]
  },
  {
   "cell_type": "code",
   "execution_count": null,
   "metadata": {},
   "outputs": [],
   "source": [
    "\n",
    "eval_prompt = \"\"\"\n",
    "### Dialogue:\n",
    "Jennifer: The new Marvel movies haven't been doing well, and I am pretty sure the new one also sucks.\n",
    "Lee: But I really wanted to see how Miss Marvel would look in theater!\n",
    "Zain: Well, my friend have seen Miss Marvel movie already, and they said that it really sucked. That's even considering them having all the comic books too.\n",
    "Lee: Huh... Well, I guess I'll see it by myself when it hits the VOD. So, which one should we watch now?\n",
    "Jennifer: There's tickets to Avatar 2 in about an hour. We could get those and watch that instead.\n",
    "Lee: Sounds good to me. I really liked the first one anyways.\n",
    "Zain: I'm on board also. Let's see that one instead! I'll buy the popcorn.\n",
    "\n",
    "### Summary:\n",
    "\"\"\"\n",
    "\n",
    "model_input = tokenizer(eval_prompt, return_tensors=\"pt\").to(\"cuda\")\n",
    "\n",
    "ft_model.eval()\n",
    "with torch.no_grad():\n",
    "    print(\n",
    "        eval_tokenizer.decode(\n",
    "            ft_model.generate(**model_input, max_new_tokens=100)[0],\n",
    "            skip_special_tokens=True,\n",
    "        )\n",
    "    )"
   ]
  }
 ],
 "metadata": {
  "language_info": {
   "name": "python"
  }
 },
 "nbformat": 4,
 "nbformat_minor": 2
}
